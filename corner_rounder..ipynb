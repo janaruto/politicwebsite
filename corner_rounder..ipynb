{
 "cells": [
  {
   "cell_type": "code",
   "execution_count": 35,
   "metadata": {},
   "outputs": [],
   "source": [
    "import os \n",
    "from PIL import Image, ImageDraw"
   ]
  },
  {
   "cell_type": "code",
   "execution_count": 36,
   "metadata": {},
   "outputs": [],
   "source": [
    "def add_rounded_corners(image, radius):\n",
    "    # Ensure image has an alpha channel\n",
    "    image = image.convert(\"RGBA\")\n",
    "    \n",
    "    # Create a rounded mask\n",
    "    mask = Image.new(\"L\", image.size, 0)\n",
    "    draw = ImageDraw.Draw(mask)\n",
    "    left_up_point = (0, 0)\n",
    "    right_down_point = image.size\n",
    "    draw.rounded_rectangle([left_up_point, right_down_point], radius, fill=255)\n",
    "    \n",
    "    # Create a transparent image to place the rounded image\n",
    "    rounded_image = Image.new(\"RGBA\", image.size)\n",
    "    rounded_image.paste(image, (0, 0), mask=mask)\n",
    "    \n",
    "    return rounded_image\n",
    "\n",
    "def process_images(input_folder, output_folder, radius):\n",
    "    if not os.path.exists(output_folder):\n",
    "        os.makedirs(output_folder)\n",
    "    \n",
    "    for filename in os.listdir(input_folder):\n",
    "        if filename.endswith(\".png\"):\n",
    "            img_path = os.path.join(input_folder, filename)\n",
    "            img = Image.open(img_path)\n",
    "            rounded_img = add_rounded_corners(img, radius)\n",
    "            \n",
    "            output_path = os.path.join(output_folder, filename)\n",
    "            rounded_img.save(output_path)\n",
    "            print(f\"Saved rounded image: {output_path}\")"
   ]
  },
  {
   "cell_type": "code",
   "execution_count": 37,
   "metadata": {},
   "outputs": [
    {
     "data": {
      "text/plain": [
       "'/Users/Guddal/CodingProjects/website'"
      ]
     },
     "execution_count": 37,
     "metadata": {},
     "output_type": "execute_result"
    }
   ],
   "source": [
    "os.getcwd()"
   ]
  },
  {
   "cell_type": "code",
   "execution_count": 38,
   "metadata": {},
   "outputs": [
    {
     "name": "stdout",
     "output_type": "stream",
     "text": [
      "Saved rounded image: apps/images/arbeitgeber.png\n",
      "Saved rounded image: apps/images/kultur.png\n",
      "Saved rounded image: apps/images/unternehmenssteuer.png\n",
      "Saved rounded image: apps/images/industrie.png\n"
     ]
    }
   ],
   "source": [
    "\n",
    "input_folder = \"apps/images/not_rounded/\"  # Folder with .png images\n",
    "output_folder = \"apps/images\"  # Folder to save images with rounded corners\n",
    "corner_radius = 20  # Radius for rounding corners\n",
    "\n",
    "process_images(input_folder, output_folder, corner_radius)"
   ]
  },
  {
   "cell_type": "code",
   "execution_count": 39,
   "metadata": {},
   "outputs": [],
   "source": [
    "def add_rounded_corners(image, radius):\n",
    "    # Ensure image has an alpha channel\n",
    "    image = image.convert(\"RGBA\")\n",
    "    \n",
    "    # Create a rounded mask\n",
    "    mask = Image.new(\"L\", image.size, 0)\n",
    "    draw = ImageDraw.Draw(mask)\n",
    "    left_up_point = (0, 0)\n",
    "    right_down_point = image.size\n",
    "    draw.rounded_rectangle([left_up_point, right_down_point], radius, fill=255)\n",
    "    \n",
    "    # Create a transparent image to place the rounded image\n",
    "    rounded_image = Image.new(\"RGBA\", image.size)\n",
    "    rounded_image.paste(image, (0, 0), mask=mask)\n",
    "    \n",
    "    return rounded_image\n",
    "\n",
    "def process_images(input_folder, output_folder, radius):\n",
    "    if not os.path.exists(output_folder):\n",
    "        os.makedirs(output_folder)\n",
    "    \n",
    "    for filename in os.listdir(input_folder):\n",
    "        if filename.lower().endswith((\".png\", \".jpg\", \".jpeg\")):\n",
    "            img_path = os.path.join(input_folder, filename)\n",
    "            img = Image.open(img_path)\n",
    "            rounded_img = add_rounded_corners(img, radius)\n",
    "            \n",
    "            # Save as .png to preserve transparency\n",
    "            output_filename = os.path.splitext(filename)[0] + \".png\"\n",
    "            output_path = os.path.join(output_folder, output_filename)\n",
    "            rounded_img.save(output_path)\n",
    "            print(f\"Saved rounded image: {output_path}\")"
   ]
  },
  {
   "cell_type": "code",
   "execution_count": 40,
   "metadata": {},
   "outputs": [
    {
     "name": "stdout",
     "output_type": "stream",
     "text": [
      "Saved rounded image: apps/images/arbeitgeber.png\n",
      "Saved rounded image: apps/images/kultur.png\n",
      "Saved rounded image: apps/images/unternehmenssteuer.png\n",
      "Saved rounded image: apps/images/industrie.png\n"
     ]
    }
   ],
   "source": [
    "\n",
    "input_folder = \"apps/images/not_rounded/\"  # Folder with .png images\n",
    "output_folder = \"apps/images\"  # Folder to save images with rounded corners\n",
    "corner_radius = 20  # Radius for rounding corners\n",
    "\n",
    "process_images(input_folder, output_folder, corner_radius)"
   ]
  }
 ],
 "metadata": {
  "kernelspec": {
   "display_name": "Python 3.8.19 ('streamlined_env')",
   "language": "python",
   "name": "python3"
  },
  "language_info": {
   "codemirror_mode": {
    "name": "ipython",
    "version": 3
   },
   "file_extension": ".py",
   "mimetype": "text/x-python",
   "name": "python",
   "nbconvert_exporter": "python",
   "pygments_lexer": "ipython3",
   "version": "3.8.19"
  },
  "orig_nbformat": 4,
  "vscode": {
   "interpreter": {
    "hash": "dc1ae5a0e1ffedb2432dafb5ce9e9eb79907ac865cfbf75a19d1d1842c4f75c0"
   }
  }
 },
 "nbformat": 4,
 "nbformat_minor": 2
}
